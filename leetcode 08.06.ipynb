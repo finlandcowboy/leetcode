{
 "cells": [
  {
   "cell_type": "code",
   "execution_count": 26,
   "id": "d1946f3e",
   "metadata": {},
   "outputs": [
    {
     "name": "stdout",
     "output_type": "stream",
     "text": [
      "\"cdbcbbaaabab\" 4 5 \"aabbaaxybbaabb\" 5 4\n"
     ]
    }
   ],
   "source": [
    "test_cases_in = input().split()"
   ]
  },
  {
   "cell_type": "code",
   "execution_count": 27,
   "id": "5632d0c6",
   "metadata": {},
   "outputs": [],
   "source": [
    "test_cases = []\n",
    "test_cases.append(test_cases_in[:3])\n",
    "test_cases.append(test_cases_in[3:6])"
   ]
  },
  {
   "cell_type": "code",
   "execution_count": 34,
   "id": "e79dba27",
   "metadata": {},
   "outputs": [],
   "source": [
    "for i in range(2):\n",
    "    test_cases[i][0] = test_cases[i][0].replace('\"', '')\n",
    "    test_cases[i][1] = int(test_cases[i][1])\n",
    "    test_cases[i][2] = int(test_cases[i][2])"
   ]
  },
  {
   "cell_type": "code",
   "execution_count": 35,
   "id": "b505aae2",
   "metadata": {},
   "outputs": [
    {
     "data": {
      "text/plain": [
       "[['cdbcbbaaabab', 4, 5], ['aabbaaxybbaabb', 5, 4]]"
      ]
     },
     "execution_count": 35,
     "metadata": {},
     "output_type": "execute_result"
    }
   ],
   "source": [
    "test_cases"
   ]
  },
  {
   "cell_type": "code",
   "execution_count": 42,
   "id": "595121d1",
   "metadata": {},
   "outputs": [
    {
     "data": {
      "text/plain": [
       "(2, 2)"
      ]
     },
     "execution_count": 42,
     "metadata": {},
     "output_type": "execute_result"
    }
   ],
   "source": [
    "str.count('cdbcbbaaabab', 'ba'), str.count('cdbcbbaaabab', 'ab')"
   ]
  },
  {
   "cell_type": "code",
   "execution_count": 46,
   "id": "8c5cda1b",
   "metadata": {},
   "outputs": [],
   "source": [
    "def maximumGain(s: str, x: int, y: int) -> int:\n",
    "        score = 0\n",
    "        while 'ba' in s:\n",
    "            s = s.replace('ba', '')\n",
    "            score += y\n",
    "        while 'ab' in s:\n",
    "            s = s.replace('ab', '')\n",
    "            score += x\n",
    "        print(s)\n",
    "        return score"
   ]
  },
  {
   "cell_type": "code",
   "execution_count": 37,
   "id": "c315f924",
   "metadata": {},
   "outputs": [],
   "source": [
    "def test(test_casey):\n",
    "    for i, test_case in enumerate(test_cases):\n",
    "        score = maximumGain(test_case[0], test_case[1], test_case[2])\n",
    "        print(f'Test {i} passed. Score: {score}')"
   ]
  },
  {
   "cell_type": "code",
   "execution_count": 47,
   "id": "c82c045b",
   "metadata": {},
   "outputs": [
    {
     "name": "stdout",
     "output_type": "stream",
     "text": [
      "cdbc\n",
      "Test 0 passed. Score: 14\n",
      "aaxybb\n",
      "Test 1 passed. Score: 8\n"
     ]
    }
   ],
   "source": [
    "test(test_cases)"
   ]
  },
  {
   "cell_type": "code",
   "execution_count": 48,
   "id": "1ebea9af",
   "metadata": {},
   "outputs": [
    {
     "ename": "SyntaxError",
     "evalue": "invalid syntax (<ipython-input-48-7650b4a575a1>, line 1)",
     "output_type": "error",
     "traceback": [
      "\u001b[1;36m  File \u001b[1;32m\"<ipython-input-48-7650b4a575a1>\"\u001b[1;36m, line \u001b[1;32m1\u001b[0m\n\u001b[1;33m    parentheses = {'(' : ')', '{' : '}', '[', ']'}\u001b[0m\n\u001b[1;37m                                            ^\u001b[0m\n\u001b[1;31mSyntaxError\u001b[0m\u001b[1;31m:\u001b[0m invalid syntax\n"
     ]
    }
   ],
   "source": [
    "parentheses = {'(' : ')', '{' : '}', '[', ']'}"
   ]
  },
  {
   "cell_type": "code",
   "execution_count": 49,
   "id": "ad0ea170",
   "metadata": {},
   "outputs": [],
   "source": [
    "test_cases = {'()': 'True', '[' : 'False', ']':'False', '(])':'False'}"
   ]
  },
  {
   "cell_type": "code",
   "execution_count": 67,
   "id": "ee8473d4",
   "metadata": {},
   "outputs": [],
   "source": [
    "def test(test_cases):\n",
    "    for key, value in test_cases.items():\n",
    "        print(value, isValid(key))\n",
    "        if value and isValid(key):\n",
    "            print('Passed...')\n",
    "        elif not value and not isValid(key):\n",
    "            print('Passed...')\n",
    "        else:\n",
    "            print(f'Not passed. Example: {key}')"
   ]
  },
  {
   "cell_type": "code",
   "execution_count": 65,
   "id": "75a5d7e9",
   "metadata": {},
   "outputs": [],
   "source": [
    "def isValid(s: str) -> bool:\n",
    "    parentheses = {'(' : ')', '{' : '}', '[' : ']'}\n",
    "    for key, value in parentheses.items():\n",
    "        if s.count(key) == s.count(value):\n",
    "            pass\n",
    "        else:\n",
    "            return False\n",
    "    return True"
   ]
  },
  {
   "cell_type": "code",
   "execution_count": 68,
   "id": "8c7c99f3",
   "metadata": {},
   "outputs": [
    {
     "data": {
      "text/plain": [
       "dict_values(['True', 'False', 'False', 'False'])"
      ]
     },
     "execution_count": 68,
     "metadata": {},
     "output_type": "execute_result"
    }
   ],
   "source": [
    "test_cases.values()"
   ]
  },
  {
   "cell_type": "code",
   "execution_count": 69,
   "id": "729e104f",
   "metadata": {},
   "outputs": [
    {
     "name": "stdout",
     "output_type": "stream",
     "text": [
      "True True\n",
      "Passed...\n",
      "False False\n",
      "Not passed. Example: [\n",
      "False False\n",
      "Not passed. Example: ]\n",
      "False False\n",
      "Not passed. Example: (])\n"
     ]
    }
   ],
   "source": [
    "test(test_cases)"
   ]
  },
  {
   "cell_type": "code",
   "execution_count": null,
   "id": "129b844d",
   "metadata": {},
   "outputs": [],
   "source": []
  },
  {
   "cell_type": "code",
   "execution_count": null,
   "id": "9509fcd3",
   "metadata": {},
   "outputs": [],
   "source": []
  },
  {
   "cell_type": "code",
   "execution_count": null,
   "id": "cabab288",
   "metadata": {},
   "outputs": [],
   "source": []
  },
  {
   "cell_type": "code",
   "execution_count": null,
   "id": "65d67eb3",
   "metadata": {},
   "outputs": [],
   "source": []
  }
 ],
 "metadata": {
  "kernelspec": {
   "display_name": "Python 3",
   "language": "python",
   "name": "python3"
  },
  "language_info": {
   "codemirror_mode": {
    "name": "ipython",
    "version": 3
   },
   "file_extension": ".py",
   "mimetype": "text/x-python",
   "name": "python",
   "nbconvert_exporter": "python",
   "pygments_lexer": "ipython3",
   "version": "3.9.5"
  }
 },
 "nbformat": 4,
 "nbformat_minor": 5
}
